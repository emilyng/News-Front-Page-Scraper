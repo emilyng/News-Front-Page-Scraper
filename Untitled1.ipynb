{
 "cells": [
  {
   "cell_type": "code",
   "execution_count": 3,
   "metadata": {},
   "outputs": [],
   "source": [
    "import requests\n",
    "from bs4 import BeautifulSoup\n",
    "import csv\n",
    "import urllib"
   ]
  },
  {
   "cell_type": "code",
   "execution_count": 38,
   "metadata": {},
   "outputs": [],
   "source": [
    "url = \"http://www.cnn.com/\"\n",
    "page = urllib.request.urlopen(url)\n",
    "r = requests.get(url)\n",
    "data = r.text\n",
    "soup = BeautifulSoup(data, \"html.parser\")"
   ]
  },
  {
   "cell_type": "code",
   "execution_count": null,
   "metadata": {},
   "outputs": [],
   "source": []
  },
  {
   "cell_type": "code",
   "execution_count": null,
   "metadata": {},
   "outputs": [],
   "source": []
  },
  {
   "cell_type": "code",
   "execution_count": 325,
   "metadata": {},
   "outputs": [
    {
     "data": {
      "text/plain": [
       "datetime.datetime(2020, 6, 27, 0, 0)"
      ]
     },
     "execution_count": 325,
     "metadata": {},
     "output_type": "execute_result"
    }
   ],
   "source": [
    "datetime.strptime('2020-06-27', '%Y-%m-%d')"
   ]
  },
  {
   "cell_type": "code",
   "execution_count": 3,
   "metadata": {},
   "outputs": [],
   "source": [
    "#import webdriver\n",
    "from selenium import webdriver\n",
    "from datetime import datetime\n",
    "#Key class provides keys in the keyboard like RETURN, F1, and ALT etc\n",
    "from selenium.webdriver.common.keys import Keys\n",
    "from bs4 import BeautifulSoup\n",
    "\n",
    "driver = webdriver.Chrome()\n",
    "url = 'http://www.cnn.com'\n",
    "driver.get(url)\n",
    "\n",
    "#parsing\n",
    "soup = BeautifulSoup(driver.page_source, 'lxml')\n",
    "containers = soup.find_all('h3', {'class':'cd__headline'})"
   ]
  },
  {
   "cell_type": "code",
   "execution_count": 4,
   "metadata": {},
   "outputs": [
    {
     "ename": "NameError",
     "evalue": "name 'category' is not defined",
     "output_type": "error",
     "traceback": [
      "\u001b[0;31m---------------------------------------------------------------------------\u001b[0m",
      "\u001b[0;31mNameError\u001b[0m                                 Traceback (most recent call last)",
      "\u001b[0;32m<ipython-input-4-04924f421bc1>\u001b[0m in \u001b[0;36m<module>\u001b[0;34m\u001b[0m\n\u001b[1;32m     36\u001b[0m \u001b[0;34m\u001b[0m\u001b[0m\n\u001b[1;32m     37\u001b[0m         d = {'headline': headline,\n\u001b[0;32m---> 38\u001b[0;31m              \u001b[0;34m'category'\u001b[0m\u001b[0;34m:\u001b[0m \u001b[0mcategory\u001b[0m\u001b[0;34m,\u001b[0m\u001b[0;34m\u001b[0m\u001b[0;34m\u001b[0m\u001b[0m\n\u001b[0m\u001b[1;32m     39\u001b[0m              \u001b[0;34m'publish_date'\u001b[0m\u001b[0;34m:\u001b[0m \u001b[0mpublish_date\u001b[0m\u001b[0;34m,\u001b[0m\u001b[0;34m\u001b[0m\u001b[0;34m\u001b[0m\u001b[0m\n\u001b[1;32m     40\u001b[0m              \u001b[0;34m'access_date'\u001b[0m\u001b[0;34m:\u001b[0m \u001b[0maccess_date\u001b[0m\u001b[0;34m,\u001b[0m\u001b[0;34m\u001b[0m\u001b[0;34m\u001b[0m\u001b[0m\n",
      "\u001b[0;31mNameError\u001b[0m: name 'category' is not defined"
     ]
    }
   ],
   "source": [
    "data = []\n",
    "\n",
    "for article in containers:\n",
    "        headline = article.find(class_='cd__headline-text').getText()\n",
    "        url = article.find('a').get('href')\n",
    "        access_date = datetime.today().strftime('%Y-%m-%d')\n",
    "\n",
    "        categories = ['/us/', '/weather/', '/tech/', '/health/', '/politics/', '/travel/',\n",
    "                      '/opinions/', '/business/', '/entertainment/', '/investing/', \n",
    "                      '/india/', '/success/', '/celebrities/', '/mark/', '/europe/', \n",
    "                      '/americas/', '/asia/', '/style/', '/uk/', '/cnn-underscored/']\n",
    "\n",
    "        if 'bleacherreport' in url:\n",
    "            category = 'sports'\n",
    "        \n",
    "        try:\n",
    "            for cat in categories:\n",
    "                if cat in url:\n",
    "                    category = cat.replace('/', '')\n",
    "\n",
    "        except:\n",
    "            pass\n",
    "        \n",
    "        try:\n",
    "            if '/videos' in url:\n",
    "                video = True\n",
    "                publish_date = '-'.join(url.split('/')[3:6])\n",
    "            else:\n",
    "                video = False\n",
    "                publish_date = '-'.join(url.split('/')[1:4])\n",
    "\n",
    "        except: \n",
    "            pass\n",
    "        \n",
    "\n",
    "\n",
    "        d = {'headline': headline,\n",
    "             'category': category,\n",
    "             'publish_date': publish_date,\n",
    "             'access_date': access_date,\n",
    "             'video': video,\n",
    "             'url': url}\n",
    "        data.append(d)"
   ]
  },
  {
   "cell_type": "code",
   "execution_count": 330,
   "metadata": {},
   "outputs": [],
   "source": [
    "keys = ['headline', 'category', 'publish_date',\n",
    "            'access_date', 'video', 'url']\n",
    "\n",
    "with open('CNN_scrape_test.csv', 'w', newline='') as write_obj:\n",
    "    # create writer object\n",
    "    dict_writer = csv.DictWriter(write_obj, fieldnames=keys)\n",
    "    dict_writer.writeheader()\n",
    "    dict_writer.writerows(data)"
   ]
  },
  {
   "cell_type": "code",
   "execution_count": 15,
   "metadata": {},
   "outputs": [
    {
     "name": "stdout",
     "output_type": "stream",
     "text": [
      "world\n",
      "health\n",
      "us\n",
      "asia\n",
      "politics\n",
      "investing\n",
      "entertainment\n",
      "politics\n",
      "politics\n",
      "politics\n",
      "travel\n",
      "politics\n",
      "health\n",
      "politics\n",
      "opinions\n",
      "politics\n",
      "opinions\n",
      "politics\n",
      "politics\n",
      "politics\n",
      "politics\n",
      "politics\n",
      "health\n",
      "politics\n",
      "us\n",
      "politics\n",
      "politics\n",
      "opinions\n",
      "us\n",
      "politics\n",
      "politics\n",
      "us\n",
      "politics\n",
      "us\n",
      "world\n",
      "health\n",
      "us\n",
      "politics\n",
      "politics\n",
      "resources\n",
      "health\n",
      "health\n",
      "health\n",
      "entertainment\n",
      "entertainment\n",
      "entertainment\n",
      "us\n",
      "entertainment\n",
      "us\n",
      "entertainment\n",
      "us\n",
      "politics\n",
      "politics\n",
      "politics\n",
      "politics\n",
      "us\n",
      "politics\n",
      "politics\n",
      "opinions\n",
      "entertainment\n",
      "app-news-section\n",
      "india\n",
      "business\n",
      "business\n",
      "success\n",
      "sports\n",
      "sports\n",
      "sports\n",
      "sports\n",
      "sports\n",
      "sports\n",
      "opinions\n",
      "opinions\n",
      "opinions\n",
      "opinions\n",
      "opinions\n",
      "opinions\n",
      "opinions\n",
      "guide\n",
      "mark\n",
      "asia\n",
      "world\n",
      "world\n",
      "europe\n",
      "tennis\n",
      "travel\n",
      "us\n",
      "us\n",
      "us\n",
      "politics\n",
      "style\n",
      "style\n",
      "style\n",
      "style\n",
      "style\n",
      "entertainment\n",
      "entertainment\n",
      "entertainment\n",
      "entertainment\n",
      "entertainment\n",
      "tech\n",
      "tech\n",
      "tech\n",
      "tech\n",
      "tech\n",
      "tech\n",
      "politics\n",
      "politics\n",
      "politics\n",
      "politics\n",
      "health\n",
      "health\n",
      "health\n",
      "health\n",
      "health\n",
      "travel\n",
      "travel\n",
      "travel\n",
      "travel\n",
      "travel\n",
      "cnn-underscored\n",
      "cnn-underscored\n",
      "cnn-underscored\n",
      "cnn-underscored\n",
      "cnn-underscored\n"
     ]
    }
   ],
   "source": [
    "urls = []\n",
    "headlines = []\n",
    "for article in containers:\n",
    "    headline = article.getText()\n",
    "    url = article.find('a').get('href')\n",
    "    headlines.append(headline)\n",
    "    urls.append(url)\n",
    "    \n",
    "    \n",
    "    categories = ['/us/', '/weather/', '/tech/', '/health/', '/politics/', '/travel/',\n",
    "                      '/opinions/', '/business/', '/entertainment/', '/investing/', \n",
    "                      '/india/', '/success/', '/celebrities/', '/mark/', '/europe/', \n",
    "                      '/americas/', '/asia/', '/style/', '/uk/', '/cnn-underscored/', \n",
    "                    '/world/', '/resources/', '/app-news-section/', '/tennis/', '/guide/']\n",
    "\n",
    "    if 'bleacherreport' in url:\n",
    "        category = 'sports'\n",
    "        \n",
    "    try:\n",
    "        for cat in categories:\n",
    "            if cat in url:\n",
    "                category = cat.replace('/', '')\n",
    "    \n",
    "    except:\n",
    "        pass\n",
    "    print(category)"
   ]
  },
  {
   "cell_type": "code",
   "execution_count": 13,
   "metadata": {},
   "outputs": [
    {
     "data": {
      "text/plain": [
       "['/world/live-news/coronavirus-pandemic-06-28-20-intl/index.html',\n",
       " '/2020/06/28/health/us-coronavirus-sunday/index.html',\n",
       " '/2020/06/28/us/florida-coronavirus-miami-beaches/index.html',\n",
       " '/2020/06/28/asia/india-largest-coronavirus-hospital-delhi-scli-intl/index.html',\n",
       " '/2020/06/28/politics/russia-us-troops-afghanistan-trump/index.html',\n",
       " '/2020/06/28/investing/stocks-week-ahead/index.html',\n",
       " '/2020/06/26/entertainment/simpsons-voices-trnd/index.html',\n",
       " '/2020/06/27/politics/biden-campaign-staff-diversity-data/index.html',\n",
       " '/2020/06/28/politics/floyd-police-reform-unlikely/index.html',\n",
       " '/2020/06/27/politics/mississippi-confederate-flag-vote/index.html',\n",
       " '/videos/travel/2020/06/26/road-trip-coronavirus-safety-tips-gupta-vpx.cnn',\n",
       " '/2020/06/28/politics/donald-trump-coronavirus-fallout/index.html',\n",
       " '/videos/health/2020/06/27/coronavirus-task-force-briefings-dr-peter-hotez-nr-vpx.cnn',\n",
       " '/2020/06/28/politics/trump-united-states-world-leadership-intl/index.html',\n",
       " '/2020/06/28/opinions/donald-trumps-strange-thinking-opinion-weekly-column-galant/index.html',\n",
       " '/2020/06/28/politics/trump-2020-election-coronavirus/index.html',\n",
       " '/2020/06/28/opinions/statues-monuments-america-representation-avlon/index.html',\n",
       " '/2020/06/28/politics/hhs-alex-azar-coronavirus-rise-in-cases-cnntv/index.html',\n",
       " '/2020/06/28/politics/trump-tweet-supporters-man-chants-white-power/index.html',\n",
       " '/2020/06/28/politics/john-bolton-trump-russian-intelligence-taliban-bounty/index.html',\n",
       " '/2020/06/28/politics/russia-us-troops-afghanistan-trump/index.html',\n",
       " '/videos/media/2020/06/28/brian-stelter-cost-of-lies-rs-vpx.cnn',\n",
       " '/2020/06/28/health/us-coronavirus-sunday/index.html',\n",
       " '/videos/politics/2020/06/27/social-distancing-stickers-trump-campaign-tulsa-rally-sot-vpx.cnn',\n",
       " '/2020/06/28/us/florida-coronavirus-miami-beaches/index.html',\n",
       " '/2020/06/28/politics/berman-firing-barr-credibility/index.html',\n",
       " '/videos/politics/2020/06/28/mitch-mcconnell-mask-wearing-ndwknd-vpx.cnn',\n",
       " '/2020/06/27/opinions/trump-tries-to-change-the-subject-coronavirus-statues-ghitis/index.html',\n",
       " '/2020/06/28/us/dna-abducted-killed-8-year-old-girl/index.html',\n",
       " '/videos/politics/2020/06/28/tim-scott-police-reform-legislation-sot-sotu-vpx.cnn',\n",
       " '/2020/06/28/politics/lamar-alexander-trump-masks/index.html',\n",
       " '/2020/06/28/us/utah-traverse-fire-fireworks/index.html',\n",
       " '/videos/politics/2020/06/27/biden-trump-russia-us-troops-afghanistan-gergen-ryan-sot-nr-vpx.cnn',\n",
       " '/2020/06/28/us/saharan-dust-cloud-health-problems/index.html',\n",
       " 'https://www.cnn.com/world/live-news/coronavirus-pandemic-06-28-20-intl/h_6eaf6801d14f795636689111e14b2cbd',\n",
       " 'https://www.cnn.com/interactive/2020/health/reopening-coronavirus/travel_vacation.html',\n",
       " '/2020/06/28/us/chicago-children-shooting/index.html',\n",
       " '/videos/politics/2020/06/28/charlie-crist-florida-desantis-coronavirus-sot-vpx-nr.cnn',\n",
       " '/2020/06/27/politics/reopen-maryland-tim-walters-coronavirus/index.html',\n",
       " 'https://www.cnn.com/resources/coronavirus-information',\n",
       " '/2020/04/20/health/10-key-coronavirus-symptoms-wellness/index.html',\n",
       " '/2020/06/23/health/public-restrooms-safety-coronavirus-pandemic-wellness/index.html',\n",
       " 'https://www.cnn.com/interactive/2020/health/reopening-coronavirus/work.html',\n",
       " 'http://www.cnn.com/2020/06/27/entertainment/graham-linehan-twitter-removal-trnd/index.html',\n",
       " 'http://www.cnn.com/2020/06/27/entertainment/tom-morello-guitar-nandi-bushell-trnd/index.html',\n",
       " '/videos/tv/2020/06/27/costas-what-pro-sports-will-look-like-in-the-covid-era.cnn',\n",
       " '/2020/06/28/us/five-things-june-28-trnd/index.html',\n",
       " '/2020/06/26/entertainment/siya-kakkar-tiktok-dies-scli-intl/index.html',\n",
       " '/videos/us/2020/06/26/woman-coughs-on-baby-social-distancing-orig-mss.cnn',\n",
       " '/2020/06/27/entertainment/bet-awards-2020-preview/index.html',\n",
       " '/videos/us/2020/06/24/portland-train-stabbing-killer-court-outburst-mxp-vpx.hln',\n",
       " '/2020/06/27/politics/biden-campaign-staff-diversity-data/index.html',\n",
       " '/videos/politics/2020/06/25/new-york-times-trump-biden-poll-enten-newday-vpx.cnn',\n",
       " '/2020/06/27/politics/joe-biden-fact-check-gop-tax-cuts-naacp-endorsement/index.html',\n",
       " '/2020/06/28/politics/trump-approval-rating-analysis/index.html',\n",
       " '/2020/06/27/us/woodrow-wilson-princeton-university-trnd/index.html',\n",
       " '/2020/06/27/politics/andrew-jackson-statue-four-men-charged/index.html',\n",
       " '/videos/tv/2020/06/27/should-confederate-battlefield-monuments-be-removed.cnn',\n",
       " '/2020/06/28/opinions/why-isnt-harriet-tubman-on-20-bill-yet-coates/index.html',\n",
       " '/2020/06/27/entertainment/mike-henry-cleveland-family-guy-trnd/index.html',\n",
       " '/2020/06/26/app-news-section/videos-of-the-week-mobile-june-26/index.html',\n",
       " '/2020/06/27/india/india-desert-locusts-gurgaon-intl/index.html',\n",
       " '/2020/06/26/business/dollar-general-robberies/index.html',\n",
       " '/2020/06/27/business/stores-closing-coronavirus-june/index.html',\n",
       " '/2020/06/25/success/2021-ford-f-150-pickup-truck-unveiled/index.html',\n",
       " 'https://bleacherreport.com/articles/2897996-report-nba-nbpa-planning-to-allow-social-justice-statements-on-back-of-jerseys?utm_source=cnn.com&utm_medium=referral&utm_campaign=editorial',\n",
       " 'https://bleacherreport.com/articles/2897998-nwsls-julie-ertz-casey-short-kneel-for-national-anthem-in-emotional-video?utm_source=cnn.com&utm_medium=referral&utm_campaign=editorial',\n",
       " 'https://bleacherreport.com/articles/2898020-rovell-mike-tyson-cost-himself-equivalent-of-100m-by-biting-holyfields-ear?utm_source=cnn.com&utm_medium=referral&utm_campaign=editorial',\n",
       " 'https://bleacherreport.com/articles/2897910-bubba-wallace-says-hes-wore-the-hell-out-after-nascar-noose-investigation?utm_source=cnn.com&utm_medium=referral&utm_campaign=editorial',\n",
       " 'https://bleacherreport.com/articles/2897991-north-carolinas-311-speedway-loses-partnerships-over-bubba-rope-facebook-post?utm_source=cnn.com&utm_medium=referral&utm_campaign=editorial',\n",
       " 'https://bleacherreport.com/articles/2897911-its-about-money-clearly-nba-insiders-question-leagues-motives-to-return?utm_source=cnn.com&utm_medium=referral&utm_campaign=editorial',\n",
       " '/2020/06/27/opinions/nursing-homes-deaths-covid-19-egge/index.html',\n",
       " '/2020/06/27/opinions/nevertrumpers-live-up-to-their-name-zelizer/index.html',\n",
       " '/2020/06/26/opinions/three-women-who-should-be-at-the-top-of-bidens-vp-list-alexander-cohen/index.html',\n",
       " '/2020/06/26/opinions/coronavirus-job-offer-san-francisco-snatched-oreilly/index.html',\n",
       " '/2020/06/27/opinions/police-database-securities-brokers-database-osler-grotz/index.html',\n",
       " '/2020/06/27/opinions/mississippi-flag-and-all-confederate-flags-must-come-down-ellis/index.html',\n",
       " 'https://ck.lendingtree.com/?a=343&c=2546&p=r&s1=partnerbin&mtaid=A944E&ctype=hppaidpartner&cmethod=refiform&rcode=1000&ccreative=refiratesat25315yrdoyouqualify_none&placement_name=hppaidpartner&ad_headline=refiratesat25315yrdoyouqualify&ad_image_name=none',\n",
       " 'https://www.comparecards.com/guide/pay-0-interest-until-2021?esourceid=6382186&utm_source=cnn&utm_medium=native&pla=cnn.com&bdst=rv&acqs=prospecting&utm_campaign=hppaidpartner&grp=pay-0-2021&tar=hppaidpartner&utm_content=Pay+0+interest+until+2021+with+a+better+card&adt=none',\n",
       " 'https://www.fool.com/mms/mark/a-sa-dd-3?utm_source=cnn&utm_medium=contentmarketing&utm_campaign=sar-doubledown3-may2020&paid=9431&waid=9431&aid=9431&psource=esaccnwdg0210093&source=esaccnwdg0210093&wsource=esaccnwdg0210093',\n",
       " '/2020/06/28/asia/india-largest-coronavirus-hospital-delhi-scli-intl/index.html',\n",
       " '/2020/06/27/world/jamaica-order-st-michael-george-insignia-trnd/index.html',\n",
       " '/videos/world/2020/06/28/london-homeless-housed-coronavirus-black-pkg-vpx.cnn',\n",
       " '/2020/06/27/europe/brussels-europe-diversity-intl/index.html',\n",
       " '/2020/06/27/tennis/novak-djokovic-adria-tour-backlash-spt-intl/index.html',\n",
       " '/travel/article/us-citizens-international-travel-problems-covid-19/index.html',\n",
       " '/2020/06/21/us/florida-woman-fights-confederate-monument/index.html',\n",
       " '/2020/06/26/us/angela-madsen-obit-spt-trnd/index.html',\n",
       " '/2020/06/27/us/layleen-polanco-corrections-officers-suspended/index.html',\n",
       " '/2020/06/27/politics/ice-custody-coronavirus/index.html',\n",
       " '/style/article/shaun-leonardo-moca-snyder-resignation-controversy/index.html',\n",
       " '/style/article/ian-weldon-wedding-photos/index.html',\n",
       " '/style/article/joan-smalls-donatemywage/index.html',\n",
       " '/style/article/fashion-industry-black-lives-matter/index.html',\n",
       " '/style/article/lgbtq-lavender-symbolism-pride/index.html',\n",
       " '/2020/06/25/entertainment/pop-culture-reckoning-race-trnd/index.html',\n",
       " '/2020/06/25/entertainment/twilight-zone-review/index.html',\n",
       " '/2020/06/25/entertainment/kristen-bell-central-park-leaving/index.html',\n",
       " '/2020/06/25/entertainment/irresistible-review/index.html',\n",
       " '/2020/06/24/entertainment/miley-cyrus-sober/index.html',\n",
       " '/2020/06/24/tech/aclu-mistaken-facial-recognition/index.html',\n",
       " '/2020/06/24/tech/diversity-silicon-valley/index.html',\n",
       " '/2020/06/23/tech/segway-pt-shut-down/index.html',\n",
       " '/2020/06/24/tech/pokemon-unite-pokemon-cafe-mix/index.html',\n",
       " '/2020/06/24/tech/olympus-camera-trnd/index.html',\n",
       " 'https://www.cnn.com/factsfirst/politics?xid=ff_btn',\n",
       " '/2020/06/26/politics/children-released-from-immigration-detention-centers/index.html',\n",
       " '/2020/06/26/politics/donald-trump-second-term/index.html',\n",
       " '/2020/06/23/politics/trump-war-mail-in-voting-lacks-republican-allies/index.html',\n",
       " '/2020/06/24/politics/mattis-coronavirus-psa/index.html',\n",
       " '/2020/06/27/health/coronavirus-treatment-fajgenbaum-drug-review-scn-wellness/index.html',\n",
       " '/2020/06/25/health/couples-better-sleep-wellness/index.html',\n",
       " '/2020/06/26/health/holyoke-soldiers-home-coronavirus-wellness/index.html',\n",
       " '/2020/06/24/health/develop-empathy-skills-wellness/index.html',\n",
       " 'https://healthguides.cnn.com/your-guide-to-hepatitis-c-and-opioid-addiction-recovery/why-hepatitis-c-is-a-serious-risk-for-baby-boomers?did=t1_rss5',\n",
       " '/travel/article/heli-adventure-remote-british-columbia/index.html',\n",
       " '/travel/article/employees-living-in-ashford-castle-covid-19/index.html',\n",
       " '/travel/article/vacation-rental-houses-for-work-pandemic/index.html',\n",
       " '/travel/article/costa-victoria-carnival-retire-ships/index.html',\n",
       " '/travel/article/japanese-country-real-estate/index.html',\n",
       " 'https://www.cnn.com/2020/06/24/cnn-underscored/best-tablets/index.html?iid=CNNUnderscoredHP2.0',\n",
       " 'https://www.cnn.com/2020/06/22/cnn-underscored/amazon-big-style-sale-top-brands/index.html?iid=CNNUnderscoredHP2.0&iid_retailer=amazon',\n",
       " 'https://www.cnn.com/2020/06/26/cnn-underscored/weekend-sales-deals/index.html?iid=CNNUnderscoredHP2.0',\n",
       " 'https://www.cnn.com/2020/06/26/cnn-underscored/road-trip-ideas-safe-travel/index.html?iid=CNNUnderscoredHP2.0',\n",
       " 'https://www.cnn.com/2020/04/03/cnn-underscored/american-express-amazon-discount-promotion/index.html?iid=CNNUnderscoredHP2.0']"
      ]
     },
     "execution_count": 13,
     "metadata": {},
     "output_type": "execute_result"
    }
   ],
   "source": [
    "urls"
   ]
  },
  {
   "cell_type": "code",
   "execution_count": 289,
   "metadata": {},
   "outputs": [
    {
     "data": {
      "text/plain": [
       "'https://www.cnn.com/2020/06/24/cnn-underscored/best-tablets/index.html?iid=CNNUnderscoredHP2.0'"
      ]
     },
     "execution_count": 289,
     "metadata": {},
     "output_type": "execute_result"
    }
   ],
   "source": [
    "urls[115]"
   ]
  },
  {
   "cell_type": "code",
   "execution_count": null,
   "metadata": {},
   "outputs": [],
   "source": []
  },
  {
   "cell_type": "code",
   "execution_count": null,
   "metadata": {},
   "outputs": [],
   "source": []
  },
  {
   "cell_type": "code",
   "execution_count": null,
   "metadata": {},
   "outputs": [],
   "source": []
  },
  {
   "cell_type": "code",
   "execution_count": null,
   "metadata": {},
   "outputs": [],
   "source": []
  },
  {
   "cell_type": "code",
   "execution_count": null,
   "metadata": {},
   "outputs": [],
   "source": []
  },
  {
   "cell_type": "code",
   "execution_count": 203,
   "metadata": {},
   "outputs": [
    {
     "data": {
      "text/plain": [
       "'/world/live-news/coronavirus-pandemic-06-27-20-intl/index.html'"
      ]
     },
     "execution_count": 203,
     "metadata": {},
     "output_type": "execute_result"
    }
   ],
   "source": [
    "df.iloc[0].url"
   ]
  },
  {
   "cell_type": "code",
   "execution_count": 204,
   "metadata": {},
   "outputs": [
    {
     "data": {
      "text/plain": [
       "'/2020/06/27/us/virtual-pride-events-trnd/index.html'"
      ]
     },
     "execution_count": 204,
     "metadata": {},
     "output_type": "execute_result"
    }
   ],
   "source": [
    "df.iloc[1].url"
   ]
  },
  {
   "cell_type": "code",
   "execution_count": 207,
   "metadata": {},
   "outputs": [
    {
     "data": {
      "text/plain": [
       "'/travel/article/us-citizens-international-travel-problems-covid-19/index.html'"
      ]
     },
     "execution_count": 207,
     "metadata": {},
     "output_type": "execute_result"
    }
   ],
   "source": [
    "df.iloc[4].url"
   ]
  },
  {
   "cell_type": "code",
   "execution_count": null,
   "metadata": {},
   "outputs": [],
   "source": []
  }
 ],
 "metadata": {
  "kernelspec": {
   "display_name": "Python 3",
   "language": "python",
   "name": "python3"
  },
  "language_info": {
   "codemirror_mode": {
    "name": "ipython",
    "version": 3
   },
   "file_extension": ".py",
   "mimetype": "text/x-python",
   "name": "python",
   "nbconvert_exporter": "python",
   "pygments_lexer": "ipython3",
   "version": "3.6.9"
  }
 },
 "nbformat": 4,
 "nbformat_minor": 4
}
