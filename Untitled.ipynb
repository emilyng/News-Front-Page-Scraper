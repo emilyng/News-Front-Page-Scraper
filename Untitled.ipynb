{
 "cells": [
  {
   "cell_type": "code",
   "execution_count": 1,
   "metadata": {},
   "outputs": [],
   "source": [
    "import requests\n",
    "from bs4 import BeautifulSoup\n",
    "import csv\n",
    "import urllib\n",
    "from datetime import datetime\n",
    "\n",
    "import time\n",
    "import schedule\n",
    "\n",
    "# import webdriver\n",
    "from selenium import webdriver\n",
    "from selenium.webdriver.chrome.options import Options\n",
    "\n",
    "data = []"
   ]
  },
  {
   "cell_type": "code",
   "execution_count": 2,
   "metadata": {},
   "outputs": [],
   "source": [
    "options = Options()\n",
    "options.add_argument(\"--headless\")\n",
    "\n",
    "driver = webdriver.Chrome(options=options)\n",
    "url = 'http://www.foxnews.com'\n",
    "driver.get(url)\n",
    "\n",
    "soup = BeautifulSoup(driver.page_source, 'lxml')"
   ]
  },
  {
   "cell_type": "code",
   "execution_count": 3,
   "metadata": {},
   "outputs": [],
   "source": [
    "headers = soup.find_all('h2', {'class': 'title'})\n",
    "sub_headers = soup.find_all('li', {'class': 'related-item'})\n",
    "scroll_bar_art = soup.find_all('article', {'class': 'article-ct'})"
   ]
  },
  {
   "cell_type": "code",
   "execution_count": 4,
   "metadata": {},
   "outputs": [],
   "source": [
    "containers = headers + sub_headers + scroll_bar_art"
   ]
  },
  {
   "cell_type": "code",
   "execution_count": 5,
   "metadata": {},
   "outputs": [
    {
     "data": {
      "text/plain": [
       "'//www.foxnews.com/entertainment/queen-elizabeth-honors-military'"
      ]
     },
     "execution_count": 5,
     "metadata": {},
     "output_type": "execute_result"
    }
   ],
   "source": [
    "containers[100].find('a').get('href')"
   ]
  },
  {
   "cell_type": "code",
   "execution_count": 62,
   "metadata": {},
   "outputs": [],
   "source": [
    "for article in containers:\n",
    "    headline = article.getText()\n",
    "    url = article.find('a').get('href')\n",
    "    access_date = datetime.today().strftime('%Y-%m-%d')\n",
    "      \n",
    "        \n",
    "    categories = ['/us/', '/politics/', '/auto/', '/money/', '/lifestyle/', '/entertainment/',\n",
    "                  '/technology/', '/world/', '/sports/', '/real-estate/',\n",
    "                  '/science/', '/media/', '/opinion/', '/tech/', '/great-outdoors/',\n",
    "                  '/food-drink/', '/health/']\n",
    "\n",
    "    for cat in categories:\n",
    "        if cat in url:\n",
    "            category = cat.replace('/', '')\n",
    "\n",
    "    if '/v/' in url or '/watch/' in url:\n",
    "        video = True\n",
    "        category = 'video'\n",
    "    else:\n",
    "        video = False   \n",
    "        \n",
    "    d = {'headline': headline, \n",
    "         'category': category,\n",
    "         'access_date': access_date, \n",
    "         'video': video, \n",
    "         'url': url}\n",
    "    data.append(d)"
   ]
  },
  {
   "cell_type": "code",
   "execution_count": 63,
   "metadata": {},
   "outputs": [],
   "source": [
    "#write data into FOX_scrape.csv file\n",
    "keys = ['headline', 'category', 'access_date', 'video', 'url']\n",
    "\n",
    "with open('FOX_scrape_test.csv', 'w', newline='') as out_file:\n",
    "    dict_writer = csv.DictWriter(out_file, fieldnames=keys)\n",
    "    dict_writer.writeheader()\n",
    "    dict_writer.writerows(data)\n"
   ]
  },
  {
   "cell_type": "code",
   "execution_count": 47,
   "metadata": {},
   "outputs": [],
   "source": [
    "categories = ['/us/', '/politics/', '/auto/', '/money/', '/lifestyle/', '/entertainment/',\n",
    "                  '/technology/', '/world/', '/sports/', '/real-estate/',\n",
    "                  '/science/', '/media/', '/opinion/', '/tech/', '/great-outdoors/',\n",
    "                  '/food-drink/', '/health/']"
   ]
  },
  {
   "cell_type": "code",
   "execution_count": 45,
   "metadata": {},
   "outputs": [],
   "source": [
    "urls = [] \n",
    "for article in containers:\n",
    "    url = article.find('a').get('href')\n",
    "    urls.append(url)"
   ]
  },
  {
   "cell_type": "code",
   "execution_count": 57,
   "metadata": {},
   "outputs": [
    {
     "name": "stdout",
     "output_type": "stream",
     "text": [
      "auto\n"
     ]
    }
   ],
   "source": [
    "for cat in categories:\n",
    "    #print(cat)\n",
    "    if cat in urls[30]:\n",
    "        print(cat.replace('/', ''))"
   ]
  },
  {
   "cell_type": "code",
   "execution_count": 52,
   "metadata": {},
   "outputs": [
    {
     "data": {
      "text/plain": [
       "'https://www.foxnews.com/politics/lawmakers-want-answers-on-russia-paying-taliban-to-attack-us-troops'"
      ]
     },
     "execution_count": 52,
     "metadata": {},
     "output_type": "execute_result"
    }
   ],
   "source": [
    "urls[25]"
   ]
  },
  {
   "cell_type": "code",
   "execution_count": 61,
   "metadata": {},
   "outputs": [
    {
     "data": {
      "text/plain": [
       "True"
      ]
     },
     "execution_count": 61,
     "metadata": {},
     "output_type": "execute_result"
    }
   ],
   "source": [
    "'/auto/' in containers[30].find('a').get('href')"
   ]
  },
  {
   "cell_type": "code",
   "execution_count": null,
   "metadata": {},
   "outputs": [],
   "source": []
  }
 ],
 "metadata": {
  "kernelspec": {
   "display_name": "Python 3",
   "language": "python",
   "name": "python3"
  },
  "language_info": {
   "codemirror_mode": {
    "name": "ipython",
    "version": 3
   },
   "file_extension": ".py",
   "mimetype": "text/x-python",
   "name": "python",
   "nbconvert_exporter": "python",
   "pygments_lexer": "ipython3",
   "version": "3.6.9"
  }
 },
 "nbformat": 4,
 "nbformat_minor": 4
}
